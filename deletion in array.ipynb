{
 "cells": [
  {
   "cell_type": "code",
   "execution_count": 1,
   "metadata": {},
   "outputs": [
    {
     "name": "stdout",
     "output_type": "stream",
     "text": [
      "Enter number of element in array: 5\n",
      "Enter elements of array\n",
      "1\n",
      "2\n",
      "3\n",
      "4\n",
      "5\n",
      "Array before deletion:  [1, 2, 3, 4, 5]\n",
      "Enter element to delete4\n",
      "[1, 2, 3, 5]\n"
     ]
    }
   ],
   "source": [
    "n=int(input(\"Enter number of element in array: \"))\n",
    "list=[None]*n\n",
    "print(\"Enter elements of array\")\n",
    "for i in range(n):\n",
    "    list[i]=int(input())\n",
    "    \n",
    "print(\"Array before deletion: \", end=\" \")\n",
    "print(list)\n",
    "\n",
    "a=int(input(\"Enter element to delete\"))\n",
    "for i in range(n-1):\n",
    "    if(list[i]==a):\n",
    "        list.remove(a)\n",
    "\n",
    "        \n",
    "print(list)\n"
   ]
  }
 ],
 "metadata": {
  "kernelspec": {
   "display_name": "Python 3",
   "language": "python",
   "name": "python3"
  },
  "language_info": {
   "codemirror_mode": {
    "name": "ipython",
    "version": 3
   },
   "file_extension": ".py",
   "mimetype": "text/x-python",
   "name": "python",
   "nbconvert_exporter": "python",
   "pygments_lexer": "ipython3",
   "version": "3.6.5"
  }
 },
 "nbformat": 4,
 "nbformat_minor": 2
}
