{
 "cells": [
  {
   "cell_type": "markdown",
   "metadata": {},
   "source": [
    "# Perfect cube"
   ]
  },
  {
   "cell_type": "code",
   "execution_count": 1,
   "metadata": {},
   "outputs": [
    {
     "name": "stdout",
     "output_type": "stream",
     "text": [
      "Enter range of numbers: 9\n",
      "1 8 27 64 125 216 343 512 729 "
     ]
    }
   ],
   "source": [
    "# print perfect cubes\n",
    "def cube(num):\n",
    "    for i in range(1,num+1):\n",
    "        print(i*i*i, end=\" \")\n",
    "        \n",
    "num = int(input(\"Enter range of numbers: \"))\n",
    "cube(num)"
   ]
  },
  {
   "cell_type": "code",
   "execution_count": 2,
   "metadata": {},
   "outputs": [
    {
     "name": "stdout",
     "output_type": "stream",
     "text": [
      "Enter the number to check: 19\n",
      "No\n"
     ]
    }
   ],
   "source": [
    "# check if number is perfect cube \n",
    "import math\n",
    "def checknum(num):\n",
    "    s=num**(1/3)\n",
    "    a=(s-math.floor(s))\n",
    "    if(a==0):\n",
    "        print(\"yes\")\n",
    "    else:\n",
    "        print(\"No\")\n",
    "num=int(input(\"Enter the number to check: \"))\n",
    "checknum(num)"
   ]
  }
 ],
 "metadata": {
  "kernelspec": {
   "display_name": "Python 3",
   "language": "python",
   "name": "python3"
  },
  "language_info": {
   "codemirror_mode": {
    "name": "ipython",
    "version": 3
   },
   "file_extension": ".py",
   "mimetype": "text/x-python",
   "name": "python",
   "nbconvert_exporter": "python",
   "pygments_lexer": "ipython3",
   "version": "3.6.5"
  }
 },
 "nbformat": 4,
 "nbformat_minor": 2
}
