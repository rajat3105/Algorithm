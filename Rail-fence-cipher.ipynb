{
 "cells": [
  {
   "cell_type": "markdown",
   "metadata": {},
   "source": [
    "### Rail-fence-cipher"
   ]
  },
  {
   "cell_type": "code",
   "execution_count": 1,
   "metadata": {},
   "outputs": [
    {
     "name": "stdout",
     "output_type": "stream",
     "text": [
      "My name is Romy kumari\n",
      "3\n",
      "Maiokrynm sRm uai e ym\n"
     ]
    }
   ],
   "source": [
    "# function to encrypt a message \n",
    "def encryptRailFence(text, key): \n",
    "  \n",
    "    \n",
    "    rail = [['\\n' for i in range(len(text))] \n",
    "                  for j in range(key)] \n",
    "      \n",
    "    dir_down = False\n",
    "    row, col = 0, 0\n",
    "      \n",
    "    for i in range(len(text)): \n",
    "        if (row == 0) or (row == key - 1): \n",
    "            dir_down = not dir_down \n",
    "          \n",
    "         \n",
    "        rail[row][col] = text[i] \n",
    "        col += 1\n",
    "          \n",
    "       \n",
    "        if dir_down: \n",
    "            row += 1\n",
    "        else: \n",
    "            row -= 1\n",
    "   \n",
    "    result = [] \n",
    "    for i in range(key): \n",
    "        for j in range(len(text)): \n",
    "            if rail[i][j] != '\\n': \n",
    "                result.append(rail[i][j]) \n",
    "    return(\"\" . join(result)) \n",
    "      \n",
    "text=input()\n",
    "key=int(input())\n",
    "a=encryptRailFence(text,key)\n",
    "print(a)\n"
   ]
  },
  {
   "cell_type": "code",
   "execution_count": 2,
   "metadata": {},
   "outputs": [
    {
     "data": {
      "text/plain": [
       "'My name is Romy kumari'"
      ]
     },
     "execution_count": 2,
     "metadata": {},
     "output_type": "execute_result"
    }
   ],
   "source": [
    "def decryptRailFence(cipher, key): \n",
    "  \n",
    "  \n",
    "   \n",
    "    rail = [['\\n' for i in range(len(cipher))]  \n",
    "                  for j in range(key)] \n",
    "      \n",
    "   \n",
    "    dir_down = None\n",
    "    row, col = 0, 0\n",
    "      \n",
    "   \n",
    "    for i in range(len(cipher)): \n",
    "        if row == 0: \n",
    "            dir_down = True\n",
    "        if row == key - 1: \n",
    "            dir_down = False\n",
    "          \n",
    "     \n",
    "        rail[row][col] = '*'\n",
    "        col += 1\n",
    "          \n",
    "        if dir_down:\n",
    "            row += 1\n",
    "        else: \n",
    "            row -= 1\n",
    "              \n",
    "   \n",
    "    index = 0\n",
    "    for i in range(key): \n",
    "        for j in range(len(cipher)): \n",
    "            if ((rail[i][j] == '*') and\n",
    "               (index < len(cipher))): \n",
    "                rail[i][j] = cipher[index] \n",
    "                index += 1\n",
    "          \n",
    "  \n",
    "    result = [] \n",
    "    row, col = 0, 0\n",
    "    for i in range(len(cipher)): \n",
    "          \n",
    "       \n",
    "        if row == 0: \n",
    "            dir_down = True\n",
    "        if row == key-1: \n",
    "            dir_down = False\n",
    "              \n",
    "        # place the marker \n",
    "        if (rail[row][col] != '*'): \n",
    "            result.append(rail[row][col]) \n",
    "            col += 1\n",
    "              \n",
    "        # find the next row using \n",
    "        # direction flag \n",
    "        if dir_down: \n",
    "            row += 1\n",
    "        else: \n",
    "            row -= 1\n",
    "    return(\"\".join(result)) \n",
    "\n",
    "decryptRailFence(a,key)\n",
    "  \n"
   ]
  }
 ],
 "metadata": {
  "kernelspec": {
   "display_name": "Python 3",
   "language": "python",
   "name": "python3"
  },
  "language_info": {
   "codemirror_mode": {
    "name": "ipython",
    "version": 3
   },
   "file_extension": ".py",
   "mimetype": "text/x-python",
   "name": "python",
   "nbconvert_exporter": "python",
   "pygments_lexer": "ipython3",
   "version": "3.6.5"
  }
 },
 "nbformat": 4,
 "nbformat_minor": 2
}
