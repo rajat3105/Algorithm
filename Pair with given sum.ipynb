{
 "cells": [
  {
   "cell_type": "markdown",
   "metadata": {},
   "source": [
    "# Find pair having given sum"
   ]
  },
  {
   "cell_type": "code",
   "execution_count": 1,
   "metadata": {},
   "outputs": [
    {
     "name": "stdout",
     "output_type": "stream",
     "text": [
      "Enter sum of pairs: 6\n"
     ]
    },
    {
     "data": {
      "text/plain": [
       "[(1, 5), (2, 4), (4, 2)]"
      ]
     },
     "execution_count": 1,
     "metadata": {},
     "output_type": "execute_result"
    }
   ],
   "source": [
    "\n",
    "def findpair(list,sum):\n",
    "    res=[]\n",
    "\n",
    "    for i in range(len(list)):\n",
    "        for j in range(1,len(list)):\n",
    "            if(list[i]==list[j]):\n",
    "                continue;\n",
    "            elif list[i]+list[j]==sum:\n",
    "                res.append((list[i],list[j]))\n",
    "                \n",
    "    return res\n",
    "\n",
    "list=[1,2,3,4,5,6,7,8,9,10]\n",
    "sum=int(input(\"Enter sum of pairs: \"))\n",
    "findpair(list,sum)\n",
    "            \n",
    "\n"
   ]
  },
  {
   "cell_type": "code",
   "execution_count": null,
   "metadata": {},
   "outputs": [],
   "source": [
    "findpair(list,)"
   ]
  }
 ],
 "metadata": {
  "kernelspec": {
   "display_name": "Python 3",
   "language": "python",
   "name": "python3"
  },
  "language_info": {
   "codemirror_mode": {
    "name": "ipython",
    "version": 3
   },
   "file_extension": ".py",
   "mimetype": "text/x-python",
   "name": "python",
   "nbconvert_exporter": "python",
   "pygments_lexer": "ipython3",
   "version": "3.6.5"
  }
 },
 "nbformat": 4,
 "nbformat_minor": 2
}
