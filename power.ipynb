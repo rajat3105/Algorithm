{
 "cells": [
  {
   "cell_type": "code",
   "execution_count": 6,
   "metadata": {},
   "outputs": [
    {
     "name": "stdout",
     "output_type": "stream",
     "text": [
      "Enter the base number..2\n",
      "Enter the exponential value..3\n",
      "Result: 8\n"
     ]
    }
   ],
   "source": [
    "def power(base,exp):#function declaration \n",
    "    if(exp==0):\n",
    "        return 1\n",
    "    else:    \n",
    "        return (base*power(base,exp-1))\n",
    "    \n",
    "base=int(input(\"Enter the base number..\"))\n",
    "exp=int(input(\"Enter the exponential value..\"))\n",
    "print(\"Result:\",power(base,exp))#Calling the function\n"
   ]
  },
  {
   "cell_type": "code",
   "execution_count": null,
   "metadata": {},
   "outputs": [],
   "source": []
  }
 ],
 "metadata": {
  "kernelspec": {
   "display_name": "Python 3",
   "language": "python",
   "name": "python3"
  }
 },
 "nbformat": 4,
 "nbformat_minor": 2
}
