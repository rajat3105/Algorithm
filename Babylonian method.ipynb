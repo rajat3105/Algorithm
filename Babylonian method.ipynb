{
 "cells": [
  {
   "cell_type": "code",
   "execution_count": 2,
   "metadata": {},
   "outputs": [],
   "source": [
    "def root(n):\n",
    "    x=n\n",
    "    y=1\n",
    "    \n",
    "    e=0.001          # e difines the accuracy level\n",
    "    while(x-y>e):\n",
    "        x=(x+y)/2\n",
    "        y=n/x\n",
    "        \n",
    "    return x"
   ]
  },
  {
   "cell_type": "code",
   "execution_count": 3,
   "metadata": {},
   "outputs": [
    {
     "name": "stdout",
     "output_type": "stream",
     "text": [
      "Enter the number whose square root you need to found : 30\n",
      "Root is:  5.477\n"
     ]
    }
   ],
   "source": [
    "n= int(input(\"Enter the number whose square root you need to found : \"))\n",
    "print(\"Root is: \", round(root(n),3))"
   ]
  }
 ],
 "metadata": {
  "kernelspec": {
   "display_name": "Python 3",
   "language": "python",
   "name": "python3"
  },
  "language_info": {
   "codemirror_mode": {
    "name": "ipython",
    "version": 3
   },
   "file_extension": ".py",
   "mimetype": "text/x-python",
   "name": "python",
   "nbconvert_exporter": "python",
   "pygments_lexer": "ipython3",
   "version": "3.6.5"
  }
 },
 "nbformat": 4,
 "nbformat_minor": 2
}
