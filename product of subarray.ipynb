{
 "cells": [
  {
   "cell_type": "markdown",
   "metadata": {},
   "source": [
    "# Product of subarray"
   ]
  },
  {
   "cell_type": "code",
   "execution_count": 1,
   "metadata": {},
   "outputs": [
    {
     "name": "stdout",
     "output_type": "stream",
     "text": [
      "769161257109634779902443718589603914508004789479014400000000000000000000\n"
     ]
    }
   ],
   "source": [
    "def product_subarrays(arr, n): \n",
    "    \n",
    "    res = 1; \n",
    "    for i in range(n): \n",
    "        product = 1\n",
    "        for j in range(i, n): \n",
    "            product *= arr[j] \n",
    "            res = res * product \n",
    "            \n",
    "    print(res)\n",
    "  \n",
    "    \n",
    "if __name__ == '__main__': \n",
    "    arr=[1,2,3,4,5,6,7,8]\n",
    "    n=len(arr)\n",
    "    product_subarrays(arr, n)"
   ]
  },
  {
   "cell_type": "code",
   "execution_count": null,
   "metadata": {},
   "outputs": [],
   "source": []
  }
 ],
 "metadata": {
  "kernelspec": {
   "display_name": "Python 3",
   "language": "python",
   "name": "python3"
  },
  "language_info": {
   "codemirror_mode": {
    "name": "ipython",
    "version": 3
   },
   "file_extension": ".py",
   "mimetype": "text/x-python",
   "name": "python",
   "nbconvert_exporter": "python",
   "pygments_lexer": "ipython3",
   "version": "3.6.5"
  }
 },
 "nbformat": 4,
 "nbformat_minor": 2
}
