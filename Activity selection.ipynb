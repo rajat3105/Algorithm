{
 "cells": [
  {
   "cell_type": "markdown",
   "metadata": {},
   "source": [
    "# Activity selection problem"
   ]
  },
  {
   "cell_type": "code",
   "execution_count": 10,
   "metadata": {},
   "outputs": [
    {
     "name": "stdout",
     "output_type": "stream",
     "text": [
      "Enter number of element in array: 5\n",
      "Enter starting time\n",
      "1\n",
      "3\n",
      "5\n",
      "7\n",
      "9\n",
      "Enter finishing time\n",
      "3\n",
      "5\n",
      "9\n",
      "10\n",
      "12\n",
      "[1, 3, 5, 7, 9]\n",
      "[3, 5, 9, 10, 12]\n",
      "Activity selected are:  0 1 2 4 "
     ]
    }
   ],
   "source": [
    "# if  finishing time is already sorted\n",
    "def activityselection(s,f):\n",
    "    i=0\n",
    "    print (i, end=\" \")\n",
    "    \n",
    "    for j in range(len(f)):\n",
    "        \n",
    "        if(s[j]>=f[i]):\n",
    "            print (j, end=\" \")\n",
    "            i=j\n",
    "            \n",
    "n=int(input(\"Enter number of element in array: \"))\n",
    "print(\"Enter starting time\")\n",
    "s=[None]*n\n",
    "for i in range(n):\n",
    "    s[i]=int(input())\n",
    "    \n",
    "print(\"Enter finishing time\")\n",
    "f=[None]*n\n",
    "for i in range(n):\n",
    "    f[i]=int(input())\n",
    "    \n",
    "print(s)\n",
    "print(f)\n",
    "\n",
    "print(\"Activity selected are: \", end=\" \")\n",
    "activityselection(s,f)\n",
    "    "
   ]
  }
 ],
 "metadata": {
  "kernelspec": {
   "display_name": "Python 3",
   "language": "python",
   "name": "python3"
  },
  "language_info": {
   "codemirror_mode": {
    "name": "ipython",
    "version": 3
   },
   "file_extension": ".py",
   "mimetype": "text/x-python",
   "name": "python",
   "nbconvert_exporter": "python",
   "pygments_lexer": "ipython3",
   "version": "3.6.5"
  }
 },
 "nbformat": 4,
 "nbformat_minor": 2
}
