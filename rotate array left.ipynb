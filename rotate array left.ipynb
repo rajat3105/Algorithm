{
 "cells": [
  {
   "cell_type": "markdown",
   "metadata": {},
   "source": [
    "# Rotate array"
   ]
  },
  {
   "cell_type": "code",
   "execution_count": null,
   "metadata": {},
   "outputs": [
    {
     "name": "stdout",
     "output_type": "stream",
     "text": [
      "Enter length of list5\n"
     ]
    }
   ],
   "source": [
    "n=int(input(\"Enter length of list\"))\n",
    "list=[None]*n\n",
    "\n",
    "for i in range(n):\n",
    "    list[i]=int(input())\n",
    "    \n",
    "def rotate(arr):\n",
    "    temp=arr[0]\n",
    "    for i in range(n-1):\n",
    "        arr[i]=arr[i+1]\n",
    "    arr[n-1]=temp\n",
    "    \n",
    "def rotatearray(arr,position):\n",
    "    for i in range(position):\n",
    "        rotate(arr)\n",
    "        \n",
    "\n"
   ]
  },
  {
   "cell_type": "code",
   "execution_count": 20,
   "metadata": {},
   "outputs": [],
   "source": [
    "print(\"Array before rotation \")\n",
    "print(list)"
   ]
  },
  {
   "cell_type": "code",
   "execution_count": 21,
   "metadata": {},
   "outputs": [
    {
     "data": {
      "text/plain": [
       "[3, 4, 1, 2]"
      ]
     },
     "execution_count": 21,
     "metadata": {},
     "output_type": "execute_result"
    }
   ],
   "source": [
    "rotatearray(list,2)\n",
    "\n",
    "print(\"Array after rotation \")\n",
    "print(list)"
   ]
  },
  {
   "cell_type": "code",
   "execution_count": null,
   "metadata": {},
   "outputs": [],
   "source": []
  }
 ],
 "metadata": {
  "kernelspec": {
   "display_name": "Python 3",
   "language": "python",
   "name": "python3"
  },
  "language_info": {
   "codemirror_mode": {
    "name": "ipython",
    "version": 3
   },
   "file_extension": ".py",
   "mimetype": "text/x-python",
   "name": "python",
   "nbconvert_exporter": "python",
   "pygments_lexer": "ipython3",
   "version": "3.6.5"
  }
 },
 "nbformat": 4,
 "nbformat_minor": 2
}
