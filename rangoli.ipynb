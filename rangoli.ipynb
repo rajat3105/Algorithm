{
 "cells": [
  {
   "cell_type": "markdown",
   "metadata": {},
   "source": [
    "# Alpha rangoli"
   ]
  },
  {
   "cell_type": "code",
   "execution_count": 1,
   "metadata": {},
   "outputs": [],
   "source": [
    "import string\n",
    "alpha = string.ascii_lowercase\n",
    "\n",
    "def print_rangoli(size):\n",
    "    lines = []\n",
    "    for row in range(size):\n",
    "       \n",
    "        to_print = \"-\".join(alpha[row:size])\n",
    "\n",
    "        lines.append(to_print[::-1] + to_print[1:])\n",
    "        width = len(lines[0])\n",
    "    \n",
    "    for row in range(size-1, 0, -1):\n",
    "            print(lines[row].center(width, '-'))\n",
    "            \n",
    "    for row in range(size):\n",
    "            print(lines[row].center(width, '-'))\n",
    "    \n",
    "        \n",
    "   "
   ]
  },
  {
   "cell_type": "code",
   "execution_count": 2,
   "metadata": {},
   "outputs": [
    {
     "name": "stdout",
     "output_type": "stream",
     "text": [
      "----------------------------o----------------------------\n",
      "--------------------------o-n-o--------------------------\n",
      "------------------------o-n-m-n-o------------------------\n",
      "----------------------o-n-m-l-m-n-o----------------------\n",
      "--------------------o-n-m-l-k-l-m-n-o--------------------\n",
      "------------------o-n-m-l-k-j-k-l-m-n-o------------------\n",
      "----------------o-n-m-l-k-j-i-j-k-l-m-n-o----------------\n",
      "--------------o-n-m-l-k-j-i-h-i-j-k-l-m-n-o--------------\n",
      "------------o-n-m-l-k-j-i-h-g-h-i-j-k-l-m-n-o------------\n",
      "----------o-n-m-l-k-j-i-h-g-f-g-h-i-j-k-l-m-n-o----------\n",
      "--------o-n-m-l-k-j-i-h-g-f-e-f-g-h-i-j-k-l-m-n-o--------\n",
      "------o-n-m-l-k-j-i-h-g-f-e-d-e-f-g-h-i-j-k-l-m-n-o------\n",
      "----o-n-m-l-k-j-i-h-g-f-e-d-c-d-e-f-g-h-i-j-k-l-m-n-o----\n",
      "--o-n-m-l-k-j-i-h-g-f-e-d-c-b-c-d-e-f-g-h-i-j-k-l-m-n-o--\n",
      "o-n-m-l-k-j-i-h-g-f-e-d-c-b-a-b-c-d-e-f-g-h-i-j-k-l-m-n-o\n",
      "--o-n-m-l-k-j-i-h-g-f-e-d-c-b-c-d-e-f-g-h-i-j-k-l-m-n-o--\n",
      "----o-n-m-l-k-j-i-h-g-f-e-d-c-d-e-f-g-h-i-j-k-l-m-n-o----\n",
      "------o-n-m-l-k-j-i-h-g-f-e-d-e-f-g-h-i-j-k-l-m-n-o------\n",
      "--------o-n-m-l-k-j-i-h-g-f-e-f-g-h-i-j-k-l-m-n-o--------\n",
      "----------o-n-m-l-k-j-i-h-g-f-g-h-i-j-k-l-m-n-o----------\n",
      "------------o-n-m-l-k-j-i-h-g-h-i-j-k-l-m-n-o------------\n",
      "--------------o-n-m-l-k-j-i-h-i-j-k-l-m-n-o--------------\n",
      "----------------o-n-m-l-k-j-i-j-k-l-m-n-o----------------\n",
      "------------------o-n-m-l-k-j-k-l-m-n-o------------------\n",
      "--------------------o-n-m-l-k-l-m-n-o--------------------\n",
      "----------------------o-n-m-l-m-n-o----------------------\n",
      "------------------------o-n-m-n-o------------------------\n",
      "--------------------------o-n-o--------------------------\n",
      "----------------------------o----------------------------\n"
     ]
    }
   ],
   "source": [
    "print_rangoli(15)"
   ]
  }
 ],
 "metadata": {
  "kernelspec": {
   "display_name": "Python 3",
   "language": "python",
   "name": "python3"
  },
  "language_info": {
   "codemirror_mode": {
    "name": "ipython",
    "version": 3
   },
   "file_extension": ".py",
   "mimetype": "text/x-python",
   "name": "python",
   "nbconvert_exporter": "python",
   "pygments_lexer": "ipython3",
   "version": "3.6.5"
  }
 },
 "nbformat": 4,
 "nbformat_minor": 2
}
