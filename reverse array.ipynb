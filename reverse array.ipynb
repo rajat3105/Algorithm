{
 "cells": [
  {
   "cell_type": "markdown",
   "metadata": {},
   "source": [
    "# Reverse array"
   ]
  },
  {
   "cell_type": "code",
   "execution_count": 1,
   "metadata": {},
   "outputs": [],
   "source": [
    "def reverse(list, start,end):\n",
    "    while start<end:\n",
    "        list[start],list[end]=list[end],list[start]\n",
    "        start=start+1\n",
    "        end=end-1\n",
    "        \n",
    "\n",
    "    \n",
    " "
   ]
  },
  {
   "cell_type": "code",
   "execution_count": 2,
   "metadata": {},
   "outputs": [
    {
     "name": "stdout",
     "output_type": "stream",
     "text": [
      "Enter the length of array: 5\n",
      "1\n",
      "2\n",
      "3\n",
      "4\n",
      "5\n",
      "Array before reversing:  [1, 2, 3, 4, 5]\n",
      "Array after reversal:  [5, 4, 3, 2, 1]\n"
     ]
    }
   ],
   "source": [
    "n=int(input(\"Enter the length of array: \"))\n",
    "list=[None]*n\n",
    "for i in range(n):\n",
    "    list[i]=int(input())\n",
    "    \n",
    "print(\"Array before reversing: \", end=\" \")\n",
    "print(list)\n",
    "\n",
    "print(\"Array after reversal: \", end=\" \")\n",
    "reverse(list,0,n-1)\n",
    "print(list)"
   ]
  },
  {
   "cell_type": "markdown",
   "metadata": {},
   "source": [
    "# Using recursion"
   ]
  },
  {
   "cell_type": "code",
   "execution_count": 3,
   "metadata": {},
   "outputs": [],
   "source": [
    "def reverse(list, start, end): \n",
    "    if start >= end: \n",
    "        return\n",
    "    else:\n",
    "        list[start], list[end] = list[end], list[start] \n",
    "        reverse(list, start+1, end-1) "
   ]
  },
  {
   "cell_type": "code",
   "execution_count": 4,
   "metadata": {},
   "outputs": [
    {
     "name": "stdout",
     "output_type": "stream",
     "text": [
      "Enter the length of array: 6\n",
      "1\n",
      "2\n",
      "3\n",
      "8\n",
      "9\n",
      "0\n",
      "Array before reversing:  [1, 2, 3, 8, 9, 0]\n",
      "Array after reversal:  [0, 9, 8, 3, 2, 1]\n"
     ]
    }
   ],
   "source": [
    "n=int(input(\"Enter the length of array: \"))\n",
    "list=[None]*n\n",
    "for i in range(n):\n",
    "    list[i]=int(input())\n",
    "    \n",
    "print(\"Array before reversing: \", end=\" \")\n",
    "print(list)\n",
    "\n",
    "print(\"Array after reversal: \", end=\" \")\n",
    "reverse(list,0,n-1)\n",
    "print(list)"
   ]
  }
 ],
 "metadata": {
  "kernelspec": {
   "display_name": "Python 3",
   "language": "python",
   "name": "python3"
  },
  "language_info": {
   "codemirror_mode": {
    "name": "ipython",
    "version": 3
   },
   "file_extension": ".py",
   "mimetype": "text/x-python",
   "name": "python",
   "nbconvert_exporter": "python",
   "pygments_lexer": "ipython3",
   "version": "3.6.5"
  }
 },
 "nbformat": 4,
 "nbformat_minor": 2
}
