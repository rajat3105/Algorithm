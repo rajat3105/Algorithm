{
 "cells": [
  {
   "cell_type": "markdown",
   "metadata": {},
   "source": [
    "# Inversion count"
   ]
  },
  {
   "cell_type": "code",
   "execution_count": 19,
   "metadata": {},
   "outputs": [
    {
     "name": "stdout",
     "output_type": "stream",
     "text": [
      "enter number of elements in array: 4\n",
      "8\n",
      "4\n",
      "2\n",
      "1\n",
      "[8, 4, 2, 1]\n",
      "Number of inversions:  6\n"
     ]
    }
   ],
   "source": [
    "num=int(input(\"enter number of elements in array: \"))\n",
    "\n",
    "arr=[None]*num\n",
    "for i in range(num):\n",
    "    arr[i]=int(input())\n",
    "\n",
    "print(\"List isarr)\n",
    "def inversion(arr,n):\n",
    "    sum=0\n",
    "    for i in range(n):\n",
    "        for j in range(i+1,n):\n",
    "            if(arr[i]>arr[j]):\n",
    "                sum=sum+1\n",
    "    print(\"Number of inversions: \",sum)\n",
    "    \n",
    "\n",
    "inversion(arr,num)\n"
   ]
  },
  {
   "cell_type": "code",
   "execution_count": null,
   "metadata": {},
   "outputs": [],
   "source": []
  },
  {
   "cell_type": "code",
   "execution_count": null,
   "metadata": {},
   "outputs": [],
   "source": []
  },
  {
   "cell_type": "code",
   "execution_count": null,
   "metadata": {},
   "outputs": [],
   "source": []
  }
 ],
 "metadata": {
  "kernelspec": {
   "display_name": "Python 3",
   "language": "python",
   "name": "python3"
  },
  "language_info": {
   "codemirror_mode": {
    "name": "ipython",
    "version": 3
   },
   "file_extension": ".py",
   "mimetype": "text/x-python",
   "name": "python",
   "nbconvert_exporter": "python",
   "pygments_lexer": "ipython3",
   "version": "3.6.5"
  }
 },
 "nbformat": 4,
 "nbformat_minor": 2
}
