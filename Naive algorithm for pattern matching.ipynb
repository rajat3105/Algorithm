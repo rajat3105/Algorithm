{
 "cells": [
  {
   "cell_type": "markdown",
   "metadata": {},
   "source": [
    "# Naive pattern matching"
   ]
  },
  {
   "cell_type": "code",
   "execution_count": 1,
   "metadata": {},
   "outputs": [
    {
     "name": "stdout",
     "output_type": "stream",
     "text": [
      "Enter the text poooopopopooooopooooop\n",
      "Enter the pattern pop\n",
      "Pattern found at index  5\n",
      "Pattern found at index  7\n"
     ]
    }
   ],
   "source": [
    "def search(pat, txt): \n",
    "    M = len(pat) \n",
    "    N = len(txt) \n",
    "  \n",
    "    # A loop to slide pat[] one by one */ \n",
    "    for i in range(N - M + 1): \n",
    "        j = 0\n",
    "          \n",
    "        # For current index i, check  \n",
    "        # for pattern match */ \n",
    "        while(j < M): \n",
    "            if (txt[i + j] != pat[j]): \n",
    "                break\n",
    "            j += 1\n",
    "  \n",
    "        if (j == M):  \n",
    "            print(\"Pattern found at index \", i) \n",
    "  \n",
    "\n",
    "t=input(\"Enter the text \")\n",
    "p=input(\"Enter the pattern \")\n",
    "search(p,t)\n",
    "  "
   ]
  }
 ],
 "metadata": {
  "kernelspec": {
   "display_name": "Python 3",
   "language": "python",
   "name": "python3"
  },
  "language_info": {
   "codemirror_mode": {
    "name": "ipython",
    "version": 3
   },
   "file_extension": ".py",
   "mimetype": "text/x-python",
   "name": "python",
   "nbconvert_exporter": "python",
   "pygments_lexer": "ipython3",
   "version": "3.6.5"
  }
 },
 "nbformat": 4,
 "nbformat_minor": 2
}
