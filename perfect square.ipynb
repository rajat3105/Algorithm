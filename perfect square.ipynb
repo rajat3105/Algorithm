{
 "cells": [
  {
   "cell_type": "markdown",
   "metadata": {},
   "source": [
    "# perfect square"
   ]
  },
  {
   "cell_type": "code",
   "execution_count": 1,
   "metadata": {},
   "outputs": [
    {
     "name": "stdout",
     "output_type": "stream",
     "text": [
      "Enter range of numbers: 6\n",
      "1 4 9 16 25 36 "
     ]
    }
   ],
   "source": [
    "# print oerfect squares\n",
    "def square(num):\n",
    "    for i in range(1,num+1):\n",
    "        print(i*i, end=\" \")\n",
    "        \n",
    "num = int(input(\"Enter range of numbers: \"))\n",
    "square(num)"
   ]
  },
  {
   "cell_type": "code",
   "execution_count": 3,
   "metadata": {},
   "outputs": [
    {
     "name": "stdout",
     "output_type": "stream",
     "text": [
      "Enter the number to check: 10\n",
      "No\n"
     ]
    }
   ],
   "source": [
    "# check if number is perfect square \n",
    "import math\n",
    "def checknum(num):\n",
    "    s=math.sqrt(num)\n",
    "    a=(s-math.floor(s))\n",
    "    if(a==0):\n",
    "        print(\"yes\")\n",
    "    else:\n",
    "        print(\"No\")\n",
    "num=int(input(\"Enter the number to check: \"))\n",
    "checknum(num)"
   ]
  },
  {
   "cell_type": "code",
   "execution_count": 4,
   "metadata": {},
   "outputs": [
    {
     "name": "stdout",
     "output_type": "stream",
     "text": [
      "yes\n",
      "No\n"
     ]
    }
   ],
   "source": [
    "checknum(9)\n",
    "checknum(11)"
   ]
  },
  {
   "cell_type": "code",
   "execution_count": null,
   "metadata": {},
   "outputs": [],
   "source": []
  },
  {
   "cell_type": "code",
   "execution_count": null,
   "metadata": {},
   "outputs": [],
   "source": []
  }
 ],
 "metadata": {
  "kernelspec": {
   "display_name": "Python 3",
   "language": "python",
   "name": "python3"
  },
  "language_info": {
   "codemirror_mode": {
    "name": "ipython",
    "version": 3
   },
   "file_extension": ".py",
   "mimetype": "text/x-python",
   "name": "python",
   "nbconvert_exporter": "python",
   "pygments_lexer": "ipython3",
   "version": "3.6.5"
  }
 },
 "nbformat": 4,
 "nbformat_minor": 2
}
