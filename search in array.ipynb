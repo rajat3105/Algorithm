{
 "cells": [
  {
   "cell_type": "code",
   "execution_count": 1,
   "metadata": {},
   "outputs": [
    {
     "name": "stdout",
     "output_type": "stream",
     "text": [
      "Enter the number of element in array8\n",
      "13\n",
      "16\n",
      "17\n",
      "18\n",
      "10\n",
      "6\n",
      "7\n",
      "0\n",
      "Given array is:  [13, 16, 17, 18, 10, 6, 7, 0]\n",
      "enter element to be searched: 6\n",
      "key is at position  6\n"
     ]
    }
   ],
   "source": [
    "n=int(input(\"Enter the number of element in array\"))\n",
    "list=[None]*n\n",
    "for i in range(n):\n",
    "    list[i]=int(input())\n",
    "print(\"Given array is: \", end=\" \")\n",
    "print(list)\n",
    "\n",
    "def search(list,key):\n",
    "    for i in range(n):\n",
    "        if (key==list[i]):\n",
    "            return i\n",
    "\n",
    "    return -1\n",
    "b=int(input(\"enter element to be searched: \"))        \n",
    "a=search(list,b)\n",
    "if(a!=-1):\n",
    "    print(\"key is at position \",str(a+1))\n",
    "else:\n",
    "    print(\"Not found\")\n",
    "        \n"
   ]
  }
 ],
 "metadata": {
  "kernelspec": {
   "display_name": "Python 3",
   "language": "python",
   "name": "python3"
  },
  "language_info": {
   "codemirror_mode": {
    "name": "ipython",
    "version": 3
   },
   "file_extension": ".py",
   "mimetype": "text/x-python",
   "name": "python",
   "nbconvert_exporter": "python",
   "pygments_lexer": "ipython3",
   "version": "3.6.5"
  }
 },
 "nbformat": 4,
 "nbformat_minor": 2
}
