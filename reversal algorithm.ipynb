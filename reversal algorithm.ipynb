{
 "cells": [
  {
   "cell_type": "markdown",
   "metadata": {},
   "source": [
    "# Reversal algorithm"
   ]
  },
  {
   "cell_type": "code",
   "execution_count": 1,
   "metadata": {},
   "outputs": [
    {
     "name": "stdout",
     "output_type": "stream",
     "text": [
      "Enter number of elements in array: 7\n",
      "1\n",
      "2\n",
      "3\n",
      "4\n",
      "5\n",
      "6\n",
      "7\n",
      "Enter position: 2\n"
     ]
    }
   ],
   "source": [
    "n=int(input(\"Enter number of elements in array: \"))\n",
    "list=[None]*n\n",
    "for i in range(n):\n",
    "    list[i]=int(input())\n",
    "position=int(input(\"Enter position: \"))\n"
   ]
  },
  {
   "cell_type": "code",
   "execution_count": 2,
   "metadata": {},
   "outputs": [
    {
     "name": "stdout",
     "output_type": "stream",
     "text": [
      "[3, 4, 5, 6, 7, 1, 2]\n"
     ]
    }
   ],
   "source": [
    "def reverse(arr,start,end):\n",
    "             while(start<end):\n",
    "                 arr[start],arr[end]=arr[end],arr[start]\n",
    "                 start=start+1\n",
    "                 end=end-1\n",
    "                \n",
    "def left(arr,position):\n",
    "    if position==0:\n",
    "        return\n",
    "    reverse(arr,0,position-1)\n",
    "    reverse(arr,position,n-1)\n",
    "    reverse(arr,0,n-1)\n",
    "    \n",
    "left(list,position)\n",
    "print(list)\n",
    "    "
   ]
  }
 ],
 "metadata": {
  "kernelspec": {
   "display_name": "Python 3",
   "language": "python",
   "name": "python3"
  },
  "language_info": {
   "codemirror_mode": {
    "name": "ipython",
    "version": 3
   },
   "file_extension": ".py",
   "mimetype": "text/x-python",
   "name": "python",
   "nbconvert_exporter": "python",
   "pygments_lexer": "ipython3",
   "version": "3.6.5"
  }
 },
 "nbformat": 4,
 "nbformat_minor": 2
}
