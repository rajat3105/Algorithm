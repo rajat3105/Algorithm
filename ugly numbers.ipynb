{
 "cells": [
  {
   "cell_type": "markdown",
   "metadata": {},
   "source": [
    "# Ugly numbers"
   ]
  },
  {
   "cell_type": "code",
   "execution_count": 1,
   "metadata": {},
   "outputs": [
    {
     "data": {
      "text/plain": [
       "5832"
      ]
     },
     "execution_count": 1,
     "metadata": {},
     "output_type": "execute_result"
    }
   ],
   "source": [
    "def divide(a,b):\n",
    "    while (a%b==0):\n",
    "        a=a/b\n",
    "    return a\n",
    "\n",
    "def isugly(number):\n",
    "    number=divide(number,2)\n",
    "    number= divide(number,3)\n",
    "    number=divide(number,5)\n",
    "    if(number==1):\n",
    "        return 1\n",
    "    else:\n",
    "        return 0\n",
    "    \n",
    "def check(number):\n",
    "    count=1\n",
    "    i=1\n",
    "    while(count<number):\n",
    "        i=i+1\n",
    "        if(isugly(i)):\n",
    "            count+=1\n",
    "    return i\n",
    "\n",
    "check(150)\n",
    "        \n",
    "    \n",
    "    \n",
    "    "
   ]
  },
  {
   "cell_type": "markdown",
   "metadata": {},
   "source": [
    "# Dynamic programming"
   ]
  },
  {
   "cell_type": "code",
   "execution_count": 2,
   "metadata": {},
   "outputs": [
    {
     "name": "stdout",
     "output_type": "stream",
     "text": [
      "Enter a number: 17\n",
      "[1, 2, 3, 4, 5, 6, 8, 9, 10, 12, 15, 16, 18, 20, 24, 25, 27]\n",
      "27\n"
     ]
    }
   ],
   "source": [
    "def nthugly(num):\n",
    "    list=[None]*num\n",
    "    list[0]=1\n",
    "    i2,i3,i5=0,0,0\n",
    "    second=2\n",
    "    third=3\n",
    "    fifth=5\n",
    "    for i in range(1,num):\n",
    "        list[i]=min(second,third,fifth)\n",
    "        \n",
    "        if(list[i]==second):\n",
    "            i2=i2+1\n",
    "            second=list[i2]*2\n",
    "            \n",
    "        if(list[i]==third):\n",
    "            \n",
    "            i3=i3+1\n",
    "            third=list[i3]*3\n",
    "        if(list[i]==fifth):\n",
    "            i5=i5+1\n",
    "            fifth=list[i5]*5\n",
    "    print(list)\n",
    "    print( list[-1])\n",
    "            \n",
    "num=int(input(\"Enter a number: \"))\n",
    "nthugly(num)\n",
    "\n",
    "\n",
    "            \n",
    "            \n",
    "        \n",
    "        "
   ]
  }
 ],
 "metadata": {
  "kernelspec": {
   "display_name": "Python 3",
   "language": "python",
   "name": "python3"
  },
  "language_info": {
   "codemirror_mode": {
    "name": "ipython",
    "version": 3
   },
   "file_extension": ".py",
   "mimetype": "text/x-python",
   "name": "python",
   "nbconvert_exporter": "python",
   "pygments_lexer": "ipython3",
   "version": "3.6.5"
  }
 },
 "nbformat": 4,
 "nbformat_minor": 2
}
