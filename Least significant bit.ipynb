{
 "cells": [
  {
   "cell_type": "markdown",
   "metadata": {},
   "source": [
    "# Number of entry whose least significant bit is set"
   ]
  },
  {
   "cell_type": "code",
   "execution_count": 1,
   "metadata": {},
   "outputs": [
    {
     "name": "stdout",
     "output_type": "stream",
     "text": [
      "2\n",
      "2 3 5 8\n",
      "2\n"
     ]
    }
   ],
   "source": [
    "a=int(input())\n",
    "b=input()\n",
    "    \n",
    "def LSB(num): \n",
    "    return bool(num & (1 << 0 )) \n",
    "  \n",
    " \n",
    "count=0\n",
    "for i in range(0,len(b),2):\n",
    "    res=LSB(int(b[i]))\n",
    "    if res==True:\n",
    "        count+=1\n",
    "        \n",
    "print(count)"
   ]
  }
 ],
 "metadata": {
  "kernelspec": {
   "display_name": "Python 3",
   "language": "python",
   "name": "python3"
  },
  "language_info": {
   "codemirror_mode": {
    "name": "ipython",
    "version": 3
   },
   "file_extension": ".py",
   "mimetype": "text/x-python",
   "name": "python",
   "nbconvert_exporter": "python",
   "pygments_lexer": "ipython3",
   "version": "3.6.5"
  }
 },
 "nbformat": 4,
 "nbformat_minor": 2
}
