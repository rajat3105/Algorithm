{
 "cells": [
  {
   "cell_type": "markdown",
   "metadata": {},
   "source": [
    "# strong number "
   ]
  },
  {
   "cell_type": "code",
   "execution_count": 1,
   "metadata": {},
   "outputs": [
    {
     "name": "stdout",
     "output_type": "stream",
     "text": [
      "enter number to check for strong number: 145\n",
      "Yes!! it is a strong number \n"
     ]
    }
   ],
   "source": [
    "def fac(n):\n",
    "    if n==0:\n",
    "        return 1\n",
    "    else:\n",
    "        return n*fac(n-1)\n",
    "    \n",
    "def strongnum(num):\n",
    "    out=[]\n",
    "    sum=0\n",
    "    while(num>0):\n",
    "        p=num%10\n",
    "        sum=sum+fac(p)\n",
    "        num=num//10\n",
    "    return sum\n",
    "        \n",
    "num=int(input(\"enter number to check for strong number: \"))\n",
    "strong=strongnum(num)\n",
    "\n",
    "if(num==strong):\n",
    "    print(\"Yes!! it is a strong number \")\n",
    "    \n",
    "else:\n",
    "    print(\"Not a strong number \")\n",
    "        \n",
    "    \n"
   ]
  },
  {
   "cell_type": "code",
   "execution_count": 2,
   "metadata": {},
   "outputs": [
    {
     "name": "stdout",
     "output_type": "stream",
     "text": [
      "[1, 2, 145]\n"
     ]
    }
   ],
   "source": [
    "# find strong number from list\n",
    "\n",
    "list=[1,2,145,64]\n",
    "out=[]\n",
    "for i in list:\n",
    "    if(strongnum(i)==i):\n",
    "        out.append(i)\n",
    "        \n",
    "print(out)\n",
    "    "
   ]
  }
 ],
 "metadata": {
  "kernelspec": {
   "display_name": "Python 3",
   "language": "python",
   "name": "python3"
  },
  "language_info": {
   "codemirror_mode": {
    "name": "ipython",
    "version": 3
   },
   "file_extension": ".py",
   "mimetype": "text/x-python",
   "name": "python",
   "nbconvert_exporter": "python",
   "pygments_lexer": "ipython3",
   "version": "3.6.5"
  }
 },
 "nbformat": 4,
 "nbformat_minor": 2
}
