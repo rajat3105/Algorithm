{
 "cells": [
  {
   "cell_type": "code",
   "execution_count": 1,
   "metadata": {},
   "outputs": [
    {
     "name": "stdout",
     "output_type": "stream",
     "text": [
      "Found pattern at index  10\n"
     ]
    }
   ],
   "source": [
    "def KMPSearch(pat, txt): \n",
    "    M = len(pat) \n",
    "    N = len(txt) \n",
    " \n",
    "    lps = [0]*M \n",
    "    j = 0 \n",
    "    computeLPSArray(pat, M, lps) \n",
    "  \n",
    "    i = 0\n",
    "    while i < N: \n",
    "        if pat[j] == txt[i]: \n",
    "            i += 1\n",
    "            j += 1\n",
    "  \n",
    "        if j == M: \n",
    "            a=i-j\n",
    "            print (\"Found pattern at index \", a )\n",
    "            j = lps[j-1] \n",
    "  \n",
    "       \n",
    "        elif i < N and pat[j] != txt[i]: \n",
    "           \n",
    "            if j != 0: \n",
    "                j = lps[j-1] \n",
    "            else: \n",
    "                i += 1\n",
    "  \n",
    "def computeLPSArray(pat, M, lps): \n",
    "    len = 0 \n",
    "  \n",
    "    lps[0] \n",
    "    i = 1\n",
    "  \n",
    "    \n",
    "    while i < M: \n",
    "        if pat[i]== pat[len]: \n",
    "            len += 1\n",
    "            lps[i] = len\n",
    "            i += 1\n",
    "        else: \n",
    "           \n",
    "            if len != 0: \n",
    "                len = lps[len-1] \n",
    "  \n",
    "               \n",
    "            else: \n",
    "                lps[i] = 0\n",
    "                i += 1\n",
    "  \n",
    "txt = \"ABABDABACDABABCABAB\"\n",
    "pat = \"ABABCABAB\"\n",
    "KMPSearch(pat, txt) "
   ]
  }
 ],
 "metadata": {
  "kernelspec": {
   "display_name": "Python 3",
   "language": "python",
   "name": "python3"
  },
  "language_info": {
   "codemirror_mode": {
    "name": "ipython",
    "version": 3
   },
   "file_extension": ".py",
   "mimetype": "text/x-python",
   "name": "python",
   "nbconvert_exporter": "python",
   "pygments_lexer": "ipython3",
   "version": "3.6.5"
  }
 },
 "nbformat": 4,
 "nbformat_minor": 2
}
